{
 "cells": [
  {
   "cell_type": "code",
   "execution_count": 6,
   "metadata": {},
   "outputs": [],
   "source": [
    "import numpy as np"
   ]
  },
  {
   "cell_type": "code",
   "execution_count": 7,
   "metadata": {},
   "outputs": [],
   "source": [
    "# The score of students\n",
    "english_score = np.array( [55,89,76,65,48,70] )\n",
    "math_score = np.array( [60,85,60,68,55,60] )\n",
    "chinese_score = np.array( [65,90,82,72,66,77] )"
   ]
  },
  {
   "cell_type": "code",
   "execution_count": 10,
   "metadata": {},
   "outputs": [
    {
     "data": {
      "text/plain": [
       "3"
      ]
     },
     "execution_count": 10,
     "metadata": {},
     "output_type": "execute_result"
    }
   ],
   "source": [
    "#1.有多少學生英文成績比數學成績高?\n",
    "engHigher = ( english_score > math_score )\n",
    "engHigherCnt = 0 \n",
    "for i in engHigher :\n",
    "    if i == True :\n",
    "        engHigherCnt += 1 \n",
    "        \n",
    "engHigherCnt "
   ]
  },
  {
   "cell_type": "code",
   "execution_count": 14,
   "metadata": {},
   "outputs": [
    {
     "data": {
      "text/plain": [
       "True"
      ]
     },
     "execution_count": 14,
     "metadata": {},
     "output_type": "execute_result"
    }
   ],
   "source": [
    "#2.是否全班同學最高分都是國文?\n",
    "ch_higher_eng = ( chinese_score > english_score )\n",
    "ch_higher_math = ( chinese_score > math_score )\n",
    "ch_highest = np.logical_and( ch_higher_eng, ch_higher_math )\n",
    "is_all_chinese_highest = True\n",
    "if False in ch_highest :\n",
    "    is_all_chinese_highest = False \n",
    "\n",
    "is_all_chinese_highest"
   ]
  }
 ],
 "metadata": {
  "kernelspec": {
   "display_name": "Python 3",
   "language": "python",
   "name": "python3"
  },
  "language_info": {
   "codemirror_mode": {
    "name": "ipython",
    "version": 3
   },
   "file_extension": ".py",
   "mimetype": "text/x-python",
   "name": "python",
   "nbconvert_exporter": "python",
   "pygments_lexer": "ipython3",
   "version": "3.9.0"
  }
 },
 "nbformat": 4,
 "nbformat_minor": 4
}
