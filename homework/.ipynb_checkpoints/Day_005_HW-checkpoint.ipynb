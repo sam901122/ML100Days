{
 "cells": [
  {
   "cell_type": "code",
   "execution_count": 1,
   "metadata": {},
   "outputs": [],
   "source": [
    "import numpy as np"
   ]
  },
  {
   "cell_type": "code",
   "execution_count": 2,
   "metadata": {},
   "outputs": [],
   "source": [
    "# Students' score\n",
    "english_score = np.array( [55,89,76,65,48,70] )\n",
    "math_score = np.array( [60,85,60,68,np.nan,60] )\n",
    "chinese_score = np.array( [65,90,82,72,66,77] )"
   ]
  },
  {
   "cell_type": "code",
   "execution_count": 28,
   "metadata": {},
   "outputs": [
    {
     "name": "stdout",
     "output_type": "stream",
     "text": [
      "============= AVG ===============\n",
      "\n",
      "Eng  = 67.166667\n",
      "Math = 66.600000\n",
      "Chi  = 75.333333\n",
      "\n",
      "============= MAX ===============\n",
      "\n",
      "Eng  = 89.000000\n",
      "Math = 85.000000\n",
      "Chi  = 90.000000\n",
      "\n",
      "============= MIN ===============\n",
      "\n",
      "Eng  = 48.000000\n",
      "Math = 60.000000\n",
      "Chi  = 65.000000\n",
      "\n",
      "============= STD ===============\n",
      "\n",
      "Eng  = 13.433995\n",
      "Math = 9.707729\n",
      "Chi  = 8.825468\n",
      "\n"
     ]
    }
   ],
   "source": [
    "#1. 請計算各科成績平均、最大值、最小值、標準差，其中數學缺一筆資料可忽略?\n",
    "\n",
    "# 平均\n",
    "print( \"============= AVG ===============\\n\")\n",
    "\n",
    "eng_avg = np.mean( english_score )\n",
    "math_avg = np.nanmean( math_score )\n",
    "chi_avg = np.mean( chinese_score )\n",
    "\n",
    "print( \"Eng  = %f\\nMath = %f\\nChi  = %f\\n\" %( eng_avg, math_avg, chi_avg ) )\n",
    "\n",
    "# 最大值\n",
    "print( \"============= MAX ===============\\n\")\n",
    "\n",
    "eng_max = np.max( english_score )\n",
    "math_max = np.nanmax( math_score )\n",
    "chi_max = np.max( chinese_score )\n",
    "\n",
    "print( \"Eng  = %f\\nMath = %f\\nChi  = %f\\n\" %( eng_max, math_max, chi_max ) )\n",
    "\n",
    "# 最小值\n",
    "print( \"============= MIN ===============\\n\")\n",
    "\n",
    "eng_min = np.min( english_score )\n",
    "math_min = np.nanmin( math_score )\n",
    "chi_min = np.min( chinese_score )\n",
    "\n",
    "print( \"Eng  = %f\\nMath = %f\\nChi  = %f\\n\" %( eng_min, math_min, chi_min ) )\n",
    "\n",
    "# 標準差\n",
    "print( \"============= STD ===============\\n\")\n",
    "\n",
    "eng_std = np.std( english_score )\n",
    "math_std = np.nanstd( math_score )\n",
    "chi_std = np.std( chinese_score )\n",
    "\n",
    "print( \"Eng  = %f\\nMath = %f\\nChi  = %f\\n\" %( eng_std, math_std, chi_std ) )"
   ]
  },
  {
   "cell_type": "code",
   "execution_count": 32,
   "metadata": {},
   "outputs": [
    {
     "name": "stdout",
     "output_type": "stream",
     "text": [
      "AVG = 64.66666666666667\n",
      "MAX = 85.0\n",
      "MIN = 55.0\n",
      "STD = 9.860132971832694\n"
     ]
    }
   ],
   "source": [
    "#2. 第五位同學補考數學後成績為55，請計算補考後數學成績平均、最大值、最小值、標準差?\n",
    "math_score[4] = 55\n",
    "\n",
    "# 平均\n",
    "math_avg = np.mean( math_score )\n",
    "print( \"AVG =\", math_avg )\n",
    "\n",
    "# 最大值\n",
    "math_max = np.max( math_score )\n",
    "print( \"MAX =\", math_max ) \n",
    "\n",
    "# 最小值\n",
    "math_min = np.min( math_score )\n",
    "print( \"MIN =\", math_min ) \n",
    "\n",
    "# 標準差\n",
    "math_std = np.std( math_score )\n",
    "print( \"STD =\", math_std ) "
   ]
  },
  {
   "cell_type": "code",
   "execution_count": 38,
   "metadata": {},
   "outputs": [
    {
     "name": "stdout",
     "output_type": "stream",
     "text": [
      "Engish\n"
     ]
    }
   ],
   "source": [
    "#3. 用補考後資料找出與國文成績相關係數最高的學科?\n",
    "score = dict()\n",
    "score[\"Engish\"] = english_score \n",
    "score[\"Math\"] = math_score\n",
    "\n",
    "maxCoef = 0\n",
    "maxSub = None\n",
    "\n",
    "for i in score :\n",
    "    if np.corrcoef( chinese_score, score[i] )[0][1] > maxCoef :\n",
    "        maxCoef = np.corrcoef( chinese_score, score[i] )[0][1]\n",
    "        maxSub = i\n",
    "        \n",
    "print( maxSub )"
   ]
  }
 ],
 "metadata": {
  "kernelspec": {
   "display_name": "Python 3",
   "language": "python",
   "name": "python3"
  },
  "language_info": {
   "codemirror_mode": {
    "name": "ipython",
    "version": 3
   },
   "file_extension": ".py",
   "mimetype": "text/x-python",
   "name": "python",
   "nbconvert_exporter": "python",
   "pygments_lexer": "ipython3",
   "version": "3.9.0"
  }
 },
 "nbformat": 4,
 "nbformat_minor": 4
}
